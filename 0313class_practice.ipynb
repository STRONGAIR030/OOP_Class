{
 "cells": [
  {
   "cell_type": "code",
   "execution_count": 1,
   "metadata": {},
   "outputs": [
    {
     "name": "stdout",
     "output_type": "stream",
     "text": [
      "[1, 'a', 3]\n"
     ]
    }
   ],
   "source": [
    "list1 = [1, 2, 'a', 3, 2]\n",
    "while True:\n",
    "    try:\n",
    "        list1.remove(2)\n",
    "    except ValueError:\n",
    "        break\n",
    "print(list1)"
   ]
  },
  {
   "cell_type": "code",
   "execution_count": 2,
   "metadata": {},
   "outputs": [
    {
     "name": "stdout",
     "output_type": "stream",
     "text": [
      "0 Tom 76\n",
      "1 John 88\n",
      "2 Sam 92\n"
     ]
    }
   ],
   "source": [
    "\n",
    "name = ['Tom', 'John', 'Sam']\n",
    "score = [76, 88, 92]\n",
    "list1 = list(enumerate(zip(name, score)))\n",
    "for i in range(len(name)):\n",
    "    print(i, name[i], score[i])"
   ]
  },
  {
   "cell_type": "code",
   "execution_count": 3,
   "metadata": {},
   "outputs": [
    {
     "name": "stdout",
     "output_type": "stream",
     "text": [
      "sum =  20\n"
     ]
    }
   ],
   "source": [
    "testList = [1, 2, 3, 4, 5, 6, 7, 8, 9]\n",
    "it = iter(testList)\n",
    "sum1 = 0\n",
    "while True:\n",
    "    try:\n",
    "        val = next(it)\n",
    "        if val % 2 == 0:\n",
    "            sum1 += val\n",
    "    except StopIteration:\n",
    "        break\n",
    "print(\"sum = \", sum1)\n"
   ]
  },
  {
   "cell_type": "code",
   "execution_count": 4,
   "metadata": {},
   "outputs": [
    {
     "name": "stdout",
     "output_type": "stream",
     "text": [
      "120\n"
     ]
    }
   ],
   "source": [
    "def product(itr):\n",
    "    it = iter(itr)\n",
    "    p = 1\n",
    "    while True:\n",
    "        try:\n",
    "            val = next(it)\n",
    "            p *= val\n",
    "        except StopIteration:\n",
    "            break\n",
    "    return p\n",
    "\n",
    "def factorial(n):\n",
    "    rng1 = range(1, n+1)\n",
    "    return product(rng1)\n",
    "\n",
    "print(factorial(5))"
   ]
  },
  {
   "cell_type": "code",
   "execution_count": 5,
   "metadata": {},
   "outputs": [
    {
     "name": "stdout",
     "output_type": "stream",
     "text": [
      "sum =  900\n",
      "average =  225.0\n"
     ]
    }
   ],
   "source": [
    "list1 = [30, 45, 1024, 2500, 699, 126]\n",
    "\n",
    "list2 = [num for num in list1 if num <= 1000]\n",
    "\n",
    "sum1 = sum(list2)\n",
    "avg1 = sum1 / len(list2)\n",
    "\n",
    "print(\"sum = \", sum1)\n",
    "print(\"average = \", avg1)"
   ]
  },
  {
   "cell_type": "code",
   "execution_count": 3,
   "metadata": {},
   "outputs": [
    {
     "name": "stdout",
     "output_type": "stream",
     "text": [
      "[0, 63, 126, 189, 252, 315, 378, 441]\n",
      "sum =  1764\n"
     ]
    }
   ],
   "source": [
    "list1 = range(500)\n",
    "list2 = [num for num in list1 if num % 7 == 0 and num % 9 == 0]\n",
    "print(list2)\n",
    "\n",
    "sum1 = sum(list2)\n",
    "print(\"sum = \", sum1)"
   ]
  },
  {
   "cell_type": "code",
   "execution_count": 6,
   "metadata": {},
   "outputs": [
    {
     "name": "stdout",
     "output_type": "stream",
     "text": [
      "[(1, 10123.4), (2, 20246.8), (3, 30370.199999999997), (4, 40493.6), (5, 50617.0), (6, 60740.399999999994), (7, 70863.8), (8, 80987.2), (9, 91110.59999999999), (10, 101234.0), (11, 111357.4), (12, 121480.79999999999), (13, 131604.19999999998), (14, 141727.6), (15, 151851.0), (16, 161974.4), (17, 172097.8), (18, 182221.19999999998), (19, 192344.6), (20, 202468.0)]\n"
     ]
    }
   ],
   "source": [
    "P = 10000\n",
    "n = 1\n",
    "r = 0.01234\n",
    "t = 20\n",
    "result = [(num, P*(1 + r)*num) for num in range(1, t+1)]\n",
    "print(result)"
   ]
  },
  {
   "cell_type": "code",
   "execution_count": 8,
   "metadata": {},
   "outputs": [
    {
     "name": "stdout",
     "output_type": "stream",
     "text": [
      "{441, 378, 315, 252, 189, 126, 63}\n",
      "{385, 259, 133, 7, 392, 266, 140, 14, 399, 273, 147, 21, 406, 280, 154, 28, 413, 287, 161, 35, 420, 294, 168, 42, 427, 301, 175, 49, 434, 308, 182, 56, 448, 322, 196, 70, 455, 329, 203, 77, 462, 336, 210, 84, 469, 343, 217, 91, 476, 350, 224, 98, 483, 357, 231, 105, 490, 364, 238, 112, 497, 371, 245, 119}\n",
      "{387, 261, 135, 9, 396, 270, 144, 18, 405, 279, 153, 27, 414, 288, 162, 36, 423, 297, 171, 45, 432, 306, 180, 54, 450, 324, 198, 72, 459, 333, 207, 81, 468, 342, 216, 90, 477, 351, 225, 99, 486, 360, 234, 108, 495, 369, 243, 117}\n"
     ]
    }
   ],
   "source": [
    "set7 = {num for num in range(1, 500) if num % 7 == 0}\n",
    "set9 = {num for num in range(2, 500) if num % 9 == 0}\n",
    "\n",
    "print(set7 & set9)\n",
    "print(set7 - set9)\n",
    "print(set9 - set7)"
   ]
  },
  {
   "cell_type": "code",
   "execution_count": 12,
   "metadata": {},
   "outputs": [
    {
     "name": "stdout",
     "output_type": "stream",
     "text": [
      "{2, 3, 5, 7, 521, 11, 523, 13, 17, 19, 23, 29, 541, 31, 547, 37, 41, 43, 557, 47, 563, 53, 569, 59, 571, 61, 577, 67, 71, 73, 587, 79, 593, 83, 599, 89, 601, 607, 97, 101, 613, 103, 617, 107, 619, 109, 113, 631, 127, 641, 131, 643, 647, 137, 139, 653, 659, 149, 661, 151, 157, 673, 163, 677, 167, 683, 173, 179, 691, 181, 701, 191, 193, 197, 709, 199, 719, 211, 727, 733, 223, 227, 739, 229, 743, 233, 239, 751, 241, 757, 761, 251, 257, 769, 773, 263, 269, 271, 787, 277, 281, 283, 797, 293, 809, 811, 307, 821, 311, 823, 313, 827, 317, 829, 839, 331, 337, 853, 857, 347, 859, 349, 863, 353, 359, 877, 367, 881, 883, 373, 887, 379, 383, 389, 907, 397, 911, 401, 919, 409, 929, 419, 421, 937, 941, 431, 433, 947, 439, 953, 443, 449, 967, 457, 971, 461, 463, 977, 467, 983, 479, 991, 997, 487, 491, 499, 503, 509}\n"
     ]
    }
   ],
   "source": [
    "prime = {num for num in range(2, 1000) if all(num % i != 0 for i in range(2, num))}\n",
    "print(prime)"
   ]
  },
  {
   "cell_type": "code",
   "execution_count": null,
   "metadata": {},
   "outputs": [
    {
     "name": "stdout",
     "output_type": "stream",
     "text": [
      "{2: [2], 3: [2, 3], 4: [2, 3], 5: [2, 3, 5], 6: [2, 3, 5], 7: [2, 3, 5, 7], 8: [2, 3, 5, 7], 9: [2, 3, 5, 7], 10: [2, 3, 5, 7], 11: [2, 3, 5, 7, 11], 12: [2, 3, 5, 7, 11], 13: [2, 3, 5, 7, 11, 13], 14: [2, 3, 5, 7, 11, 13], 15: [2, 3, 5, 7, 11, 13], 16: [2, 3, 5, 7, 11, 13], 17: [2, 3, 5, 7, 11, 13, 17], 18: [2, 3, 5, 7, 11, 13, 17], 19: [2, 3, 5, 7, 11, 13, 17, 19], 20: [2, 3, 5, 7, 11, 13, 17, 19]}\n"
     ]
    }
   ],
   "source": [
    "def finPrime(n):\n",
    "    prime = [num for num in range(2, n+1) if all(num % i != 0 for i in range(2, num))]\n",
    "    return prime\n",
    "\n",
    "pdic = {num: finPrime(num) for num in range(2, 21)}\n",
    "print(pdic)"
   ]
  }
 ],
 "metadata": {
  "kernelspec": {
   "display_name": "Python 3",
   "language": "python",
   "name": "python3"
  },
  "language_info": {
   "codemirror_mode": {
    "name": "ipython",
    "version": 3
   },
   "file_extension": ".py",
   "mimetype": "text/x-python",
   "name": "python",
   "nbconvert_exporter": "python",
   "pygments_lexer": "ipython3",
   "version": "3.9.13"
  }
 },
 "nbformat": 4,
 "nbformat_minor": 2
}
