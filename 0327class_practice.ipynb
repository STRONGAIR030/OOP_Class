{
 "cells": [
  {
   "cell_type": "code",
   "execution_count": 1,
   "metadata": {},
   "outputs": [
    {
     "name": "stdout",
     "output_type": "stream",
     "text": [
      "Chihuahua\n",
      "husky\n",
      "akita inu\n"
     ]
    }
   ],
   "source": [
    "class Dog:\n",
    "    def __init__(self, species, age, color):\n",
    "        self.species = species\n",
    "        self.age = age\n",
    "        self.color = color\n",
    "\n",
    "    def eat(self):\n",
    "        print(\"The dog is eating\")\n",
    "    \n",
    "    def sleep(self):\n",
    "        print(\"The dog is sleeping\")\n",
    "\n",
    "    def handShake(self):\n",
    "        print(\"The dog is shaking hands\")\n",
    "\n",
    "    def playball(self):\n",
    "        print(\"The dog is playing ball\")\n",
    "\n",
    "dog1 = Dog(\"Chihuahua\", 5, \"Brown\")\n",
    "dog2 = Dog(\"husky\", 4, \"White/Brown\")\n",
    "dog3 = Dog(\"akita inu\", 3, \"Brown/White\")\n",
    "\n",
    "print(dog1.species)\n",
    "print(dog2.species)\n",
    "print(dog3.species) "
   ]
  },
  {
   "cell_type": "code",
   "execution_count": 2,
   "metadata": {},
   "outputs": [
    {
     "name": "stdout",
     "output_type": "stream",
     "text": [
      "My employee id is:  1 , I am  John , I am  25  years old, and I earn  5000  per month.\n"
     ]
    }
   ],
   "source": [
    "class Employee:\n",
    "    def __init__(self, id, name, age, salary):\n",
    "        self.id = id\n",
    "        self.name = name\n",
    "        self.age = age\n",
    "        self.salary = salary\n",
    "    \n",
    "    def display(self):\n",
    "        print(\"My employee id is: \", self.id, ', I am ', self.name, ', I am ', self.age, ' years old, and I earn ', self.salary, ' per month.')\n",
    "\n",
    "    def work(self):\n",
    "        print(\"The employee is working\")\n",
    "\n",
    "employee1 = Employee(1, \"John\", 25, 5000)\n",
    "employee1.display()"
   ]
  },
  {
   "cell_type": "code",
   "execution_count": null,
   "metadata": {},
   "outputs": [
    {
     "name": "stdout",
     "output_type": "stream",
     "text": [
      "The car is a  Toyota Corolla  and it was made in  2015\n",
      "The car is driving\n",
      "The car has stopped\n",
      "The car is honking\n",
      "The car is a  Honda Civic  and it was made in  2016\n",
      "The car is driving\n",
      "The car has stopped\n",
      "The car is honking\n",
      "The car is a  Ford Fiesta  and it was made in  2017\n",
      "The car is driving\n",
      "The car has stopped\n",
      "The car is honking\n",
      "<__main__.Car object at 0x0000024337F3A0D0>\n"
     ]
    }
   ],
   "source": [
    "class Car:\n",
    "    def __init__(self, brand, model, year):\n",
    "        self._brand = brand\n",
    "        self._model = model\n",
    "        self._year = year\n",
    "\n",
    "    @property\n",
    "    def brand(self):\n",
    "        return self._brand\n",
    "    \n",
    "    @property\n",
    "    def model(self):\n",
    "        return self._model\n",
    "    \n",
    "    @property\n",
    "    def year(self):\n",
    "        return self._year\n",
    "\n",
    "    \n",
    "    def display(self):\n",
    "        print(\"The car is a \", self.brand, self.model, \" and it was made in \", self.year)\n",
    "\n",
    "    def drive(self):\n",
    "        print(\"The car is driving\")\n",
    "    \n",
    "    def stop(self):\n",
    "        print(\"The car has stopped\")\n",
    "    \n",
    "    def honk(self):\n",
    "        print(\"The car is honking\")\n",
    "\n",
    "carList = []\n",
    "car1 = Car(\"Toyota\", \"Corolla\", 2015)\n",
    "car2 = Car(\"Honda\", \"Civic\", 2016)\n",
    "car3 = Car(\"Ford\", \"Fiesta\", 2017)\n",
    "carList.append(car1)\n",
    "carList.append(car2)\n",
    "carList.append(car3)\n",
    "\n",
    "for car in carList:\n",
    "    car.display()\n",
    "    car.drive()\n",
    "    car.stop()\n",
    "    car.honk()"
   ]
  },
  {
   "cell_type": "code",
   "execution_count": null,
   "metadata": {},
   "outputs": [],
   "source": []
  }
 ],
 "metadata": {
  "kernelspec": {
   "display_name": "Python 3",
   "language": "python",
   "name": "python3"
  },
  "language_info": {
   "codemirror_mode": {
    "name": "ipython",
    "version": 3
   },
   "file_extension": ".py",
   "mimetype": "text/x-python",
   "name": "python",
   "nbconvert_exporter": "python",
   "pygments_lexer": "ipython3",
   "version": "3.9.13"
  }
 },
 "nbformat": 4,
 "nbformat_minor": 2
}
