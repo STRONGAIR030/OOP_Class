{
 "cells": [
  {
   "cell_type": "code",
   "execution_count": 1,
   "metadata": {},
   "outputs": [
    {
     "name": "stdout",
     "output_type": "stream",
     "text": [
      "You Win!\n"
     ]
    }
   ],
   "source": [
    "answer = 9\n",
    "gusses = int(input(\"Gusses a number: \"))\n",
    "while(gusses != answer):\n",
    "    gusses = int(input(\"Gusses again: \"))\n",
    "print(\"You Win!\")"
   ]
  },
  {
   "cell_type": "code",
   "execution_count": null,
   "metadata": {},
   "outputs": [],
   "source": [
    "def calculateRectangleArea(width, height):\n",
    "    return {\n",
    "            \"area\": width * height, \n",
    "            \"perimeter\": 2 * (width + height),\n",
    "        }\n",
    "\n",
    "width = int(input(\"Enter width: \"))\n",
    "height = int(input(\"Enter height: \"))\n",
    "\n",
    "rectangleData = calculateRectangleArea(width, height)\n",
    "\n",
    "print(\"Perimeter is\", rectangleData[\"perimeter\"])\n",
    "print(\"Area is\", rectangleData[\"area\"])"
   ]
  },
  {
   "cell_type": "code",
   "execution_count": null,
   "metadata": {},
   "outputs": [],
   "source": [
    "def adjustScore(score):\n",
    "    add = 10\n",
    "    max = 100\n",
    "    for i in range(len(score)):\n",
    "        score[i] += add\n",
    "        if score[i] > max:\n",
    "            score[i] = max\n",
    "\n",
    "score = [18, 56, 72, 88, 91]\n",
    "adjustScore(score)\n",
    "print(\"Adjusted score:\", score)"
   ]
  },
  {
   "cell_type": "code",
   "execution_count": null,
   "metadata": {},
   "outputs": [],
   "source": [
    "def fibonacci(n):\n",
    "    if n <= 1:\n",
    "        return n\n",
    "    else:\n",
    "        return fibonacci(n-1) + fibonacci(n-2)\n",
    "    \n",
    "print(\"result:\",fibonacci(9))"
   ]
  }
 ],
 "metadata": {
  "kernelspec": {
   "display_name": "Python 3",
   "language": "python",
   "name": "python3"
  },
  "language_info": {
   "codemirror_mode": {
    "name": "ipython",
    "version": 3
   },
   "file_extension": ".py",
   "mimetype": "text/x-python",
   "name": "python",
   "nbconvert_exporter": "python",
   "pygments_lexer": "ipython3",
   "version": "3.9.13"
  }
 },
 "nbformat": 4,
 "nbformat_minor": 2
}
